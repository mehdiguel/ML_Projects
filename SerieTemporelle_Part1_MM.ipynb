{
  "nbformat": 4,
  "nbformat_minor": 0,
  "metadata": {
    "kernelspec": {
      "display_name": "Python 3",
      "language": "python",
      "name": "python3"
    },
    "language_info": {
      "codemirror_mode": {
        "name": "ipython",
        "version": 3
      },
      "file_extension": ".py",
      "mimetype": "text/x-python",
      "name": "python",
      "nbconvert_exporter": "python",
      "pygments_lexer": "ipython3",
      "version": "3.6.0"
    },
    "colab": {
      "name": "SerieTemporelle_Part1_MM.ipynb",
      "provenance": [],
      "collapsed_sections": [],
      "include_colab_link": true
    }
  },
  "cells": [
    {
      "cell_type": "markdown",
      "metadata": {
        "id": "view-in-github",
        "colab_type": "text"
      },
      "source": [
        "<a href=\"https://colab.research.google.com/github/mehdiguel/ML_Projects/blob/main/SerieTemporelle_Part1_MM.ipynb\" target=\"_parent\"><img src=\"https://colab.research.google.com/assets/colab-badge.svg\" alt=\"Open In Colab\"/></a>"
      ]
    },
    {
      "cell_type": "markdown",
      "metadata": {
        "id": "vBxbbRyAaMm6"
      },
      "source": [
        "#### Analyse de série temporelle avec Python"
      ]
    },
    {
      "cell_type": "code",
      "metadata": {
        "id": "6WtEGl4VaMm8"
      },
      "source": [
        "import pandas as pd\n",
        "import pandas_datareader.data as web\n",
        "import numpy as np\n",
        "import matplotlib.pyplot as plt\n",
        "from sklearn.linear_model import LinearRegression\n",
        "%matplotlib inline"
      ],
      "execution_count": null,
      "outputs": []
    },
    {
      "cell_type": "markdown",
      "metadata": {
        "id": "pfsNYoJbaMnG"
      },
      "source": [
        "Dans cet tutoriel, nous nous intéressons au cours de l'action ford sur le marché US. Pour ce faire, nous utiliserons la fonction **DataReader** de pandas."
      ]
    },
    {
      "cell_type": "code",
      "metadata": {
        "id": "qK8Bd9ynaMnI"
      },
      "source": [
        "#### Création d'un data frame avec les valeur de l'action Apple de 2012 jusqu'aujourd'hui\n",
        "apple = web.DataReader('AAPL', data_source= \"yahoo\", start = \"3/14/2012\", end = \"30/10/2020\" )"
      ],
      "execution_count": null,
      "outputs": []
    },
    {
      "cell_type": "markdown",
      "metadata": {
        "id": "QRVjKaLXaMnR"
      },
      "source": [
        "On obtient un dataframe de 6 colonnes pour chaque date de cotation (Index).\n",
        "* **Open** le prix d'ouverture\n",
        "* **High** le prix le plus haut\n",
        "* **Low** le prix le plus bas \n",
        "* **Close** le prix de clôture de l'action\n",
        "* **Adj Close** le prix ajusté de clôture (cf ouverture de capital)\n",
        "* **Volume** qui correspond au nombre d'actions échangé le jour"
      ]
    },
    {
      "cell_type": "code",
      "metadata": {
        "id": "XdO-rm0aaMnS",
        "colab": {
          "base_uri": "https://localhost:8080/",
          "height": 225
        },
        "outputId": "9153b5b9-1ef3-4538-8756-3a2721b4ee01"
      },
      "source": [
        "apple.head(5)\n",
        "apple.tail(5) ### 5 dernière valeurs du cours"
      ],
      "execution_count": null,
      "outputs": [
        {
          "output_type": "execute_result",
          "data": {
            "text/html": [
              "<div>\n",
              "<style scoped>\n",
              "    .dataframe tbody tr th:only-of-type {\n",
              "        vertical-align: middle;\n",
              "    }\n",
              "\n",
              "    .dataframe tbody tr th {\n",
              "        vertical-align: top;\n",
              "    }\n",
              "\n",
              "    .dataframe thead th {\n",
              "        text-align: right;\n",
              "    }\n",
              "</style>\n",
              "<table border=\"1\" class=\"dataframe\">\n",
              "  <thead>\n",
              "    <tr style=\"text-align: right;\">\n",
              "      <th></th>\n",
              "      <th>High</th>\n",
              "      <th>Low</th>\n",
              "      <th>Open</th>\n",
              "      <th>Close</th>\n",
              "      <th>Volume</th>\n",
              "      <th>Adj Close</th>\n",
              "    </tr>\n",
              "    <tr>\n",
              "      <th>Date</th>\n",
              "      <th></th>\n",
              "      <th></th>\n",
              "      <th></th>\n",
              "      <th></th>\n",
              "      <th></th>\n",
              "      <th></th>\n",
              "    </tr>\n",
              "  </thead>\n",
              "  <tbody>\n",
              "    <tr>\n",
              "      <th>2020-10-23</th>\n",
              "      <td>116.550003</td>\n",
              "      <td>114.279999</td>\n",
              "      <td>116.389999</td>\n",
              "      <td>115.040001</td>\n",
              "      <td>82572600.0</td>\n",
              "      <td>115.040001</td>\n",
              "    </tr>\n",
              "    <tr>\n",
              "      <th>2020-10-26</th>\n",
              "      <td>116.550003</td>\n",
              "      <td>112.879997</td>\n",
              "      <td>114.010002</td>\n",
              "      <td>115.050003</td>\n",
              "      <td>111850700.0</td>\n",
              "      <td>115.050003</td>\n",
              "    </tr>\n",
              "    <tr>\n",
              "      <th>2020-10-27</th>\n",
              "      <td>117.279999</td>\n",
              "      <td>114.540001</td>\n",
              "      <td>115.489998</td>\n",
              "      <td>116.599998</td>\n",
              "      <td>92276800.0</td>\n",
              "      <td>116.599998</td>\n",
              "    </tr>\n",
              "    <tr>\n",
              "      <th>2020-10-28</th>\n",
              "      <td>115.430000</td>\n",
              "      <td>111.099998</td>\n",
              "      <td>115.050003</td>\n",
              "      <td>111.199997</td>\n",
              "      <td>143937800.0</td>\n",
              "      <td>111.199997</td>\n",
              "    </tr>\n",
              "    <tr>\n",
              "      <th>2020-10-29</th>\n",
              "      <td>116.930000</td>\n",
              "      <td>112.199997</td>\n",
              "      <td>112.370003</td>\n",
              "      <td>115.320000</td>\n",
              "      <td>143850900.0</td>\n",
              "      <td>115.320000</td>\n",
              "    </tr>\n",
              "  </tbody>\n",
              "</table>\n",
              "</div>"
            ],
            "text/plain": [
              "                  High         Low  ...       Volume   Adj Close\n",
              "Date                                ...                         \n",
              "2020-10-23  116.550003  114.279999  ...   82572600.0  115.040001\n",
              "2020-10-26  116.550003  112.879997  ...  111850700.0  115.050003\n",
              "2020-10-27  117.279999  114.540001  ...   92276800.0  116.599998\n",
              "2020-10-28  115.430000  111.099998  ...  143937800.0  111.199997\n",
              "2020-10-29  116.930000  112.199997  ...  143850900.0  115.320000\n",
              "\n",
              "[5 rows x 6 columns]"
            ]
          },
          "metadata": {
            "tags": []
          },
          "execution_count": 4
        }
      ]
    },
    {
      "cell_type": "code",
      "metadata": {
        "id": "F0gtGF1gaMnb",
        "colab": {
          "base_uri": "https://localhost:8080/"
        },
        "outputId": "9b56c679-b86a-4c7f-b29a-8699ee022718"
      },
      "source": [
        "apple.shape #### 2173 valeurs pour l'interval choisie"
      ],
      "execution_count": null,
      "outputs": [
        {
          "output_type": "execute_result",
          "data": {
            "text/plain": [
              "(2173, 6)"
            ]
          },
          "metadata": {
            "tags": []
          },
          "execution_count": 5
        }
      ]
    },
    {
      "cell_type": "code",
      "metadata": {
        "id": "Y-Z2isXAaMnl",
        "colab": {
          "base_uri": "https://localhost:8080/"
        },
        "outputId": "d1446cbb-9a2f-4d2c-9392-d6c5ec6edaa2"
      },
      "source": [
        "##### Moyenne sur les 100 dernières valeurs pour avoir un ordre d'idée du prix de l'action\n",
        "\n",
        "import numpy as np \n",
        "\n",
        "len(apple.iloc[2073:2173,:]) #### 100 dernières valeurs\n",
        "\n",
        "np.mean(apple.iloc[2073:2173, :])"
      ],
      "execution_count": null,
      "outputs": [
        {
          "output_type": "execute_result",
          "data": {
            "text/plain": [
              "High         1.092785e+02\n",
              "Low          1.059323e+02\n",
              "Open         1.077608e+02\n",
              "Close        1.076215e+02\n",
              "Volume       1.618162e+08\n",
              "Adj Close    1.075518e+02\n",
              "dtype: float64"
            ]
          },
          "metadata": {
            "tags": []
          },
          "execution_count": 6
        }
      ]
    },
    {
      "cell_type": "markdown",
      "metadata": {
        "id": "Z3SBS5PCaMnt"
      },
      "source": [
        "En moyenne sur les 100 dernières valeurs, l'action ford vaut **8.70** dollars."
      ]
    },
    {
      "cell_type": "markdown",
      "metadata": {
        "id": "My8ZR51waMnv"
      },
      "source": [
        "On crée une nouvelle variable qui correspond aux rangs de l'action dans notre data frame de la plus ancienne à la plus récente. On l'appelera \"**Num**\"."
      ]
    },
    {
      "cell_type": "code",
      "metadata": {
        "id": "gJaKJq7QaMnx"
      },
      "source": [
        "apple[\"Num\"] = range(1, len(apple) +1) ##### Incrémente la valeur suivant son rang dans le dataset"
      ],
      "execution_count": null,
      "outputs": []
    },
    {
      "cell_type": "code",
      "metadata": {
        "id": "v9UqsJCBaMn6",
        "colab": {
          "base_uri": "https://localhost:8080/",
          "height": 225
        },
        "outputId": "97c86f84-5e6a-42fb-b138-c98eee6ca851"
      },
      "source": [
        "apple[:5]"
      ],
      "execution_count": null,
      "outputs": [
        {
          "output_type": "execute_result",
          "data": {
            "text/html": [
              "<div>\n",
              "<style scoped>\n",
              "    .dataframe tbody tr th:only-of-type {\n",
              "        vertical-align: middle;\n",
              "    }\n",
              "\n",
              "    .dataframe tbody tr th {\n",
              "        vertical-align: top;\n",
              "    }\n",
              "\n",
              "    .dataframe thead th {\n",
              "        text-align: right;\n",
              "    }\n",
              "</style>\n",
              "<table border=\"1\" class=\"dataframe\">\n",
              "  <thead>\n",
              "    <tr style=\"text-align: right;\">\n",
              "      <th></th>\n",
              "      <th>High</th>\n",
              "      <th>Low</th>\n",
              "      <th>Open</th>\n",
              "      <th>Close</th>\n",
              "      <th>Volume</th>\n",
              "      <th>Adj Close</th>\n",
              "      <th>Num</th>\n",
              "    </tr>\n",
              "    <tr>\n",
              "      <th>Date</th>\n",
              "      <th></th>\n",
              "      <th></th>\n",
              "      <th></th>\n",
              "      <th></th>\n",
              "      <th></th>\n",
              "      <th></th>\n",
              "      <th></th>\n",
              "    </tr>\n",
              "  </thead>\n",
              "  <tbody>\n",
              "    <tr>\n",
              "      <th>2012-03-14</th>\n",
              "      <td>21.240000</td>\n",
              "      <td>20.549999</td>\n",
              "      <td>20.644644</td>\n",
              "      <td>21.056429</td>\n",
              "      <td>1.418844e+09</td>\n",
              "      <td>18.195688</td>\n",
              "      <td>1</td>\n",
              "    </tr>\n",
              "    <tr>\n",
              "      <th>2012-03-15</th>\n",
              "      <td>21.428928</td>\n",
              "      <td>20.662500</td>\n",
              "      <td>21.414642</td>\n",
              "      <td>20.912857</td>\n",
              "      <td>1.159718e+09</td>\n",
              "      <td>18.071619</td>\n",
              "      <td>2</td>\n",
              "    </tr>\n",
              "    <tr>\n",
              "      <th>2012-03-16</th>\n",
              "      <td>21.042856</td>\n",
              "      <td>20.642857</td>\n",
              "      <td>20.882856</td>\n",
              "      <td>20.913214</td>\n",
              "      <td>8.254876e+08</td>\n",
              "      <td>18.071930</td>\n",
              "      <td>3</td>\n",
              "    </tr>\n",
              "    <tr>\n",
              "      <th>2012-03-19</th>\n",
              "      <td>21.491785</td>\n",
              "      <td>21.037500</td>\n",
              "      <td>21.370358</td>\n",
              "      <td>21.467857</td>\n",
              "      <td>9.012360e+08</td>\n",
              "      <td>18.551216</td>\n",
              "      <td>4</td>\n",
              "    </tr>\n",
              "    <tr>\n",
              "      <th>2012-03-20</th>\n",
              "      <td>21.674999</td>\n",
              "      <td>21.124287</td>\n",
              "      <td>21.411072</td>\n",
              "      <td>21.641428</td>\n",
              "      <td>8.166620e+08</td>\n",
              "      <td>18.701204</td>\n",
              "      <td>5</td>\n",
              "    </tr>\n",
              "  </tbody>\n",
              "</table>\n",
              "</div>"
            ],
            "text/plain": [
              "                 High        Low       Open  ...        Volume  Adj Close  Num\n",
              "Date                                         ...                              \n",
              "2012-03-14  21.240000  20.549999  20.644644  ...  1.418844e+09  18.195688    1\n",
              "2012-03-15  21.428928  20.662500  21.414642  ...  1.159718e+09  18.071619    2\n",
              "2012-03-16  21.042856  20.642857  20.882856  ...  8.254876e+08  18.071930    3\n",
              "2012-03-19  21.491785  21.037500  21.370358  ...  9.012360e+08  18.551216    4\n",
              "2012-03-20  21.674999  21.124287  21.411072  ...  8.166620e+08  18.701204    5\n",
              "\n",
              "[5 rows x 7 columns]"
            ]
          },
          "metadata": {
            "tags": []
          },
          "execution_count": 8
        }
      ]
    },
    {
      "cell_type": "code",
      "metadata": {
        "id": "YV0ibrBraMoD",
        "colab": {
          "base_uri": "https://localhost:8080/",
          "height": 295
        },
        "outputId": "6616b8b4-415b-40bb-c2f2-04e9cd699b26"
      },
      "source": [
        "#### On trace le prix de l'action en fonction du temps\n",
        "\n",
        "def graph(x,y,data):\n",
        "    \n",
        "    \"\"\"\n",
        "        Graphique une variable en fonction de l'autre\n",
        "            Entrée: Nom colonne 1 (x), nom colonne 2 (y) et données (data)\n",
        "            \n",
        "            Sortie: Graphique\n",
        "    \"\"\"\n",
        "\n",
        "    graph = data.plot(\"Num\", \"Close\", legend = False, title = \"Action Apple\", color = (1,0,0));\n",
        "    graph.legend = None\n",
        "    graph.set_ylabel('Prix de l\\'action')\n",
        "    \n",
        "\n",
        "graph(\"Num\", \"Close\", apple)"
      ],
      "execution_count": null,
      "outputs": [
        {
          "output_type": "display_data",
          "data": {
            "image/png": "[encoded data removed]",
            "text/plain": [
              "<Figure size 432x288 with 1 Axes>"
            ]
          },
          "metadata": {
            "tags": [],
            "needs_background": "light"
          }
        }
      ]
    },
    {
      "cell_type": "markdown",
      "metadata": {
        "id": "39RcTeC5aMoL"
      },
      "source": [
        "Dans cette partie, on ne sélectionnera qu'un dixième et un vingtième des données:"
      ]
    },
    {
      "cell_type": "markdown",
      "metadata": {
        "id": "f3AXyoqsaMoN"
      },
      "source": [
        "**10 %** des données:"
      ]
    },
    {
      "cell_type": "code",
      "metadata": {
        "id": "P5_6aSNTaMoO"
      },
      "source": [
        "#### On ne sélectionne que 10% des données\n",
        "un_dixieme = apple.sample(frac = .1, random_state = np.random.randint(10))"
      ],
      "execution_count": null,
      "outputs": []
    },
    {
      "cell_type": "code",
      "metadata": {
        "id": "HHXbuHqhaMoV"
      },
      "source": [
        "#### De la même façon avec 5% des données\n",
        "\n",
        "un_vingtieme = apple.sample(frac = .05, random_state = np.random.randint(10))"
      ],
      "execution_count": null,
      "outputs": []
    },
    {
      "cell_type": "code",
      "metadata": {
        "id": "UsBXy6-YaMoz",
        "colab": {
          "base_uri": "https://localhost:8080/",
          "height": 225
        },
        "outputId": "f1aaeae8-b2f8-4155-f6de-77c5c5ad39ff"
      },
      "source": [
        "un_dixieme.head()"
      ],
      "execution_count": null,
      "outputs": [
        {
          "output_type": "execute_result",
          "data": {
            "text/html": [
              "<div>\n",
              "<style scoped>\n",
              "    .dataframe tbody tr th:only-of-type {\n",
              "        vertical-align: middle;\n",
              "    }\n",
              "\n",
              "    .dataframe tbody tr th {\n",
              "        vertical-align: top;\n",
              "    }\n",
              "\n",
              "    .dataframe thead th {\n",
              "        text-align: right;\n",
              "    }\n",
              "</style>\n",
              "<table border=\"1\" class=\"dataframe\">\n",
              "  <thead>\n",
              "    <tr style=\"text-align: right;\">\n",
              "      <th></th>\n",
              "      <th>High</th>\n",
              "      <th>Low</th>\n",
              "      <th>Open</th>\n",
              "      <th>Close</th>\n",
              "      <th>Volume</th>\n",
              "      <th>Adj Close</th>\n",
              "      <th>Num</th>\n",
              "    </tr>\n",
              "    <tr>\n",
              "      <th>Date</th>\n",
              "      <th></th>\n",
              "      <th></th>\n",
              "      <th></th>\n",
              "      <th></th>\n",
              "      <th></th>\n",
              "      <th></th>\n",
              "      <th></th>\n",
              "    </tr>\n",
              "  </thead>\n",
              "  <tbody>\n",
              "    <tr>\n",
              "      <th>2015-10-02</th>\n",
              "      <td>27.752501</td>\n",
              "      <td>26.887501</td>\n",
              "      <td>27.002501</td>\n",
              "      <td>27.594999</td>\n",
              "      <td>2.320792e+08</td>\n",
              "      <td>25.500929</td>\n",
              "      <td>895</td>\n",
              "    </tr>\n",
              "    <tr>\n",
              "      <th>2013-01-25</th>\n",
              "      <td>16.293928</td>\n",
              "      <td>15.535714</td>\n",
              "      <td>16.131786</td>\n",
              "      <td>15.710000</td>\n",
              "      <td>1.208026e+09</td>\n",
              "      <td>13.696181</td>\n",
              "      <td>218</td>\n",
              "    </tr>\n",
              "    <tr>\n",
              "      <th>2015-01-07</th>\n",
              "      <td>27.049999</td>\n",
              "      <td>26.674999</td>\n",
              "      <td>26.799999</td>\n",
              "      <td>26.937500</td>\n",
              "      <td>1.604236e+08</td>\n",
              "      <td>24.581060</td>\n",
              "      <td>709</td>\n",
              "    </tr>\n",
              "    <tr>\n",
              "      <th>2015-11-06</th>\n",
              "      <td>30.452499</td>\n",
              "      <td>30.155001</td>\n",
              "      <td>30.277500</td>\n",
              "      <td>30.264999</td>\n",
              "      <td>1.321692e+08</td>\n",
              "      <td>28.088028</td>\n",
              "      <td>920</td>\n",
              "    </tr>\n",
              "    <tr>\n",
              "      <th>2017-02-03</th>\n",
              "      <td>32.297501</td>\n",
              "      <td>32.040001</td>\n",
              "      <td>32.077499</td>\n",
              "      <td>32.270000</td>\n",
              "      <td>9.802920e+07</td>\n",
              "      <td>30.615150</td>\n",
              "      <td>1232</td>\n",
              "    </tr>\n",
              "  </tbody>\n",
              "</table>\n",
              "</div>"
            ],
            "text/plain": [
              "                 High        Low       Open  ...        Volume  Adj Close   Num\n",
              "Date                                         ...                               \n",
              "2015-10-02  27.752501  26.887501  27.002501  ...  2.320792e+08  25.500929   895\n",
              "2013-01-25  16.293928  15.535714  16.131786  ...  1.208026e+09  13.696181   218\n",
              "2015-01-07  27.049999  26.674999  26.799999  ...  1.604236e+08  24.581060   709\n",
              "2015-11-06  30.452499  30.155001  30.277500  ...  1.321692e+08  28.088028   920\n",
              "2017-02-03  32.297501  32.040001  32.077499  ...  9.802920e+07  30.615150  1232\n",
              "\n",
              "[5 rows x 7 columns]"
            ]
          },
          "metadata": {
            "tags": []
          },
          "execution_count": 408
        }
      ]
    },
    {
      "cell_type": "markdown",
      "metadata": {
        "id": "2J2Pi7MKaMo6"
      },
      "source": [
        "PB: Valeur ne sont pas dans l'ordre"
      ]
    },
    {
      "cell_type": "code",
      "metadata": {
        "id": "4VZK4ZD2aMo9",
        "colab": {
          "base_uri": "https://localhost:8080/",
          "height": 225
        },
        "outputId": "42cd33c6-3e41-4f2d-f7d0-d7ce0e1d5f26"
      },
      "source": [
        "un_dixieme.head()"
      ],
      "execution_count": null,
      "outputs": [
        {
          "output_type": "execute_result",
          "data": {
            "text/html": [
              "<div>\n",
              "<style scoped>\n",
              "    .dataframe tbody tr th:only-of-type {\n",
              "        vertical-align: middle;\n",
              "    }\n",
              "\n",
              "    .dataframe tbody tr th {\n",
              "        vertical-align: top;\n",
              "    }\n",
              "\n",
              "    .dataframe thead th {\n",
              "        text-align: right;\n",
              "    }\n",
              "</style>\n",
              "<table border=\"1\" class=\"dataframe\">\n",
              "  <thead>\n",
              "    <tr style=\"text-align: right;\">\n",
              "      <th></th>\n",
              "      <th>High</th>\n",
              "      <th>Low</th>\n",
              "      <th>Open</th>\n",
              "      <th>Close</th>\n",
              "      <th>Volume</th>\n",
              "      <th>Adj Close</th>\n",
              "      <th>Num</th>\n",
              "    </tr>\n",
              "    <tr>\n",
              "      <th>Date</th>\n",
              "      <th></th>\n",
              "      <th></th>\n",
              "      <th></th>\n",
              "      <th></th>\n",
              "      <th></th>\n",
              "      <th></th>\n",
              "      <th></th>\n",
              "    </tr>\n",
              "  </thead>\n",
              "  <tbody>\n",
              "    <tr>\n",
              "      <th>2015-10-02</th>\n",
              "      <td>27.752501</td>\n",
              "      <td>26.887501</td>\n",
              "      <td>27.002501</td>\n",
              "      <td>27.594999</td>\n",
              "      <td>2.320792e+08</td>\n",
              "      <td>25.500929</td>\n",
              "      <td>895</td>\n",
              "    </tr>\n",
              "    <tr>\n",
              "      <th>2013-01-25</th>\n",
              "      <td>16.293928</td>\n",
              "      <td>15.535714</td>\n",
              "      <td>16.131786</td>\n",
              "      <td>15.710000</td>\n",
              "      <td>1.208026e+09</td>\n",
              "      <td>13.696181</td>\n",
              "      <td>218</td>\n",
              "    </tr>\n",
              "    <tr>\n",
              "      <th>2015-01-07</th>\n",
              "      <td>27.049999</td>\n",
              "      <td>26.674999</td>\n",
              "      <td>26.799999</td>\n",
              "      <td>26.937500</td>\n",
              "      <td>1.604236e+08</td>\n",
              "      <td>24.581060</td>\n",
              "      <td>709</td>\n",
              "    </tr>\n",
              "    <tr>\n",
              "      <th>2015-11-06</th>\n",
              "      <td>30.452499</td>\n",
              "      <td>30.155001</td>\n",
              "      <td>30.277500</td>\n",
              "      <td>30.264999</td>\n",
              "      <td>1.321692e+08</td>\n",
              "      <td>28.088028</td>\n",
              "      <td>920</td>\n",
              "    </tr>\n",
              "    <tr>\n",
              "      <th>2017-02-03</th>\n",
              "      <td>32.297501</td>\n",
              "      <td>32.040001</td>\n",
              "      <td>32.077499</td>\n",
              "      <td>32.270000</td>\n",
              "      <td>9.802920e+07</td>\n",
              "      <td>30.615150</td>\n",
              "      <td>1232</td>\n",
              "    </tr>\n",
              "  </tbody>\n",
              "</table>\n",
              "</div>"
            ],
            "text/plain": [
              "                 High        Low       Open  ...        Volume  Adj Close   Num\n",
              "Date                                         ...                               \n",
              "2015-10-02  27.752501  26.887501  27.002501  ...  2.320792e+08  25.500929   895\n",
              "2013-01-25  16.293928  15.535714  16.131786  ...  1.208026e+09  13.696181   218\n",
              "2015-01-07  27.049999  26.674999  26.799999  ...  1.604236e+08  24.581060   709\n",
              "2015-11-06  30.452499  30.155001  30.277500  ...  1.321692e+08  28.088028   920\n",
              "2017-02-03  32.297501  32.040001  32.077499  ...  9.802920e+07  30.615150  1232\n",
              "\n",
              "[5 rows x 7 columns]"
            ]
          },
          "metadata": {
            "tags": []
          },
          "execution_count": 409
        }
      ]
    },
    {
      "cell_type": "code",
      "metadata": {
        "scrolled": true,
        "id": "bQjKWI3gaMpU"
      },
      "source": [
        "#### On enleve l'index de ce data frame\n",
        "\n",
        "un_dixieme.index.name = None\n",
        "un_dixieme.head()####Plus le nom de l'index Date\n",
        "\n",
        "un_vingtieme.index.name = None"
      ],
      "execution_count": null,
      "outputs": []
    },
    {
      "cell_type": "code",
      "metadata": {
        "id": "lGoP5Wo_aMpk"
      },
      "source": [
        "#### On tri les valeurs par Num\n",
        "\n",
        "un_dixieme = un_dixieme.sort_values(by = [\"Num\"], ascending = [True])\n",
        "un_dixieme[[\"Open\", \"Close\", \"Num\"]]#### Double crôchet\n",
        "un_vingtieme = un_vingtieme.sort_values(by = [\"Num\"], ascending = [True])"
      ],
      "execution_count": null,
      "outputs": []
    },
    {
      "cell_type": "code",
      "metadata": {
        "id": "oL-SpQRNaMps",
        "colab": {
          "base_uri": "https://localhost:8080/",
          "height": 573
        },
        "outputId": "0c46372a-fc79-435b-f781-2cc91c49ac60"
      },
      "source": [
        "#### On trace le graphique original par rapport à l'echantillon de données\n",
        "\n",
        "#### Un dixième\n",
        "graph(\"Num\", \"Close\", un_dixieme)\n",
        "\n",
        "#### Un vingtième\n",
        "graph(\"Num\", \"Close\", un_vingtieme)\n"
      ],
      "execution_count": null,
      "outputs": [
        {
          "output_type": "display_data",
          "data": {
            "image/png": "[encoded data removed]",
            "text/plain": [
              "<Figure size 432x288 with 1 Axes>"
            ]
          },
          "metadata": {
            "tags": [],
            "needs_background": "light"
          }
        },
        {
          "output_type": "display_data",
          "data": {
            "image/png": "[encoded data removed]",
            "text/plain": [
              "<Figure size 432x288 with 1 Axes>"
            ]
          },
          "metadata": {
            "tags": [],
            "needs_background": "light"
          }
        }
      ]
    },
    {
      "cell_type": "code",
      "metadata": {
        "id": "eL9aphkRaMpz",
        "colab": {
          "base_uri": "https://localhost:8080/",
          "height": 336
        },
        "outputId": "d3b10aeb-8e1e-4371-9193-8f726a5f8a42"
      },
      "source": [
        "#### On affiche les deux graphiques en même temps\n",
        "\n",
        "#### Sous graphique d'une ligne et 2 colonnes\n",
        "\n",
        "\n",
        "def trois_graph(x, y):\n",
        "    \n",
        "    \"\"\"\n",
        "        Fonction qui retourne trois graphiques (Action ford, 10% des valeurs aléatoires et 5% des valeurs)\n",
        "        \n",
        "        Entrée: Nom de colonne x et y\n",
        "        \n",
        "        Sortie: Trois graphiques\n",
        "    \n",
        "    \"\"\"\n",
        "    #### Une ligne et trois tableaux \n",
        "    fig, axes = plt.subplots(nrows = 1, ncols = 3, figsize = (10,5))\n",
        "    #### Affichage premier tableau \n",
        "    axes[0].plot(x, y, data = apple)\n",
        "    axes[0].set_title(\"Action Ford total\")\n",
        "    \n",
        "    #### Affichage second tableau 10%\n",
        "    axes[1].plot(x, y, data = un_dixieme)\n",
        "    axes[1].set_title(\"Echantillon 10%\")\n",
        "    \n",
        "    #### Affichage troisième tableau 5%\n",
        "    axes[2].plot(x, y, data = un_vingtieme)\n",
        "    axes[2].set_title(\"Echantillon 5%\")\n",
        "\n",
        "\n",
        "trois_graph(\"Num\", \"Open\" ) #### Appel de la fonction"
      ],
      "execution_count": null,
      "outputs": [
        {
          "output_type": "display_data",
          "data": {
            "image/png": "[encoded data removed]",
            "text/plain": [
              "<Figure size 720x360 with 3 Axes>"
            ]
          },
          "metadata": {
            "tags": [],
            "needs_background": "light"
          }
        }
      ]
    },
    {
      "cell_type": "code",
      "metadata": {
        "id": "L_Igh2XXaMp8",
        "colab": {
          "base_uri": "https://localhost:8080/",
          "height": 136
        },
        "outputId": "1d6f675a-b24b-42a9-ab60-f8e90fc24cb0"
      },
      "source": [
        "#### Modification de l'index pour que ce soit la variable \"Num\"\n",
        "\n",
        "apple = apple.reset_index()\n",
        "apple.head(3)\n",
        "\n",
        "# apple.index = apple[\"Num\"]\n",
        "# apple"
      ],
      "execution_count": null,
      "outputs": [
        {
          "output_type": "execute_result",
          "data": {
            "text/html": [
              "<div>\n",
              "<style scoped>\n",
              "    .dataframe tbody tr th:only-of-type {\n",
              "        vertical-align: middle;\n",
              "    }\n",
              "\n",
              "    .dataframe tbody tr th {\n",
              "        vertical-align: top;\n",
              "    }\n",
              "\n",
              "    .dataframe thead th {\n",
              "        text-align: right;\n",
              "    }\n",
              "</style>\n",
              "<table border=\"1\" class=\"dataframe\">\n",
              "  <thead>\n",
              "    <tr style=\"text-align: right;\">\n",
              "      <th></th>\n",
              "      <th>Date</th>\n",
              "      <th>High</th>\n",
              "      <th>Low</th>\n",
              "      <th>Open</th>\n",
              "      <th>Close</th>\n",
              "      <th>Volume</th>\n",
              "      <th>Adj Close</th>\n",
              "      <th>Num</th>\n",
              "    </tr>\n",
              "  </thead>\n",
              "  <tbody>\n",
              "    <tr>\n",
              "      <th>0</th>\n",
              "      <td>2012-03-14</td>\n",
              "      <td>21.240000</td>\n",
              "      <td>20.549999</td>\n",
              "      <td>20.644644</td>\n",
              "      <td>21.056429</td>\n",
              "      <td>1.418844e+09</td>\n",
              "      <td>18.195688</td>\n",
              "      <td>1</td>\n",
              "    </tr>\n",
              "    <tr>\n",
              "      <th>1</th>\n",
              "      <td>2012-03-15</td>\n",
              "      <td>21.428928</td>\n",
              "      <td>20.662500</td>\n",
              "      <td>21.414642</td>\n",
              "      <td>20.912857</td>\n",
              "      <td>1.159718e+09</td>\n",
              "      <td>18.071619</td>\n",
              "      <td>2</td>\n",
              "    </tr>\n",
              "    <tr>\n",
              "      <th>2</th>\n",
              "      <td>2012-03-16</td>\n",
              "      <td>21.042856</td>\n",
              "      <td>20.642857</td>\n",
              "      <td>20.882856</td>\n",
              "      <td>20.913214</td>\n",
              "      <td>8.254876e+08</td>\n",
              "      <td>18.071930</td>\n",
              "      <td>3</td>\n",
              "    </tr>\n",
              "  </tbody>\n",
              "</table>\n",
              "</div>"
            ],
            "text/plain": [
              "        Date       High        Low  ...        Volume  Adj Close  Num\n",
              "0 2012-03-14  21.240000  20.549999  ...  1.418844e+09  18.195688    1\n",
              "1 2012-03-15  21.428928  20.662500  ...  1.159718e+09  18.071619    2\n",
              "2 2012-03-16  21.042856  20.642857  ...  8.254876e+08  18.071930    3\n",
              "\n",
              "[3 rows x 8 columns]"
            ]
          },
          "metadata": {
            "tags": []
          },
          "execution_count": 15
        }
      ]
    },
    {
      "cell_type": "markdown",
      "metadata": {
        "id": "8j0MAxfzaMqE"
      },
      "source": [
        "On génère une moyenne mobile avec une fenètre de 80 cotations. On place les résultats dans la colonne \"**Moyenne mobile**\"."
      ]
    },
    {
      "cell_type": "code",
      "metadata": {
        "id": "4wYZgEdzaMqG",
        "colab": {
          "base_uri": "https://localhost:8080/",
          "height": 195
        },
        "outputId": "c7a8fb4a-a6fd-4fb0-b357-d68be797e22b"
      },
      "source": [
        "#### Moyenne mobile \n",
        "\n",
        "#### Moyenne mobile à fenètre de 40\n",
        "apple[\"Moyenne_Mobile\"] = apple[\"Close\"].rolling(window =60).mean()\n",
        "\n",
        "apple[[\"Close\", \"Moyenne_Mobile\"]].tail(5) #### 5 dernières colonnes de notre dataset\n",
        "\n",
        "#apple"
      ],
      "execution_count": null,
      "outputs": [
        {
          "output_type": "execute_result",
          "data": {
            "text/html": [
              "<div>\n",
              "<style scoped>\n",
              "    .dataframe tbody tr th:only-of-type {\n",
              "        vertical-align: middle;\n",
              "    }\n",
              "\n",
              "    .dataframe tbody tr th {\n",
              "        vertical-align: top;\n",
              "    }\n",
              "\n",
              "    .dataframe thead th {\n",
              "        text-align: right;\n",
              "    }\n",
              "</style>\n",
              "<table border=\"1\" class=\"dataframe\">\n",
              "  <thead>\n",
              "    <tr style=\"text-align: right;\">\n",
              "      <th></th>\n",
              "      <th>Close</th>\n",
              "      <th>Moyenne_Mobile</th>\n",
              "    </tr>\n",
              "  </thead>\n",
              "  <tbody>\n",
              "    <tr>\n",
              "      <th>2168</th>\n",
              "      <td>115.040001</td>\n",
              "      <td>116.354083</td>\n",
              "    </tr>\n",
              "    <tr>\n",
              "      <th>2169</th>\n",
              "      <td>115.050003</td>\n",
              "      <td>116.500583</td>\n",
              "    </tr>\n",
              "    <tr>\n",
              "      <th>2170</th>\n",
              "      <td>116.599998</td>\n",
              "      <td>116.628291</td>\n",
              "    </tr>\n",
              "    <tr>\n",
              "      <th>2171</th>\n",
              "      <td>111.199997</td>\n",
              "      <td>116.653875</td>\n",
              "    </tr>\n",
              "    <tr>\n",
              "      <th>2172</th>\n",
              "      <td>115.320000</td>\n",
              "      <td>116.741500</td>\n",
              "    </tr>\n",
              "  </tbody>\n",
              "</table>\n",
              "</div>"
            ],
            "text/plain": [
              "           Close  Moyenne_Mobile\n",
              "2168  115.040001      116.354083\n",
              "2169  115.050003      116.500583\n",
              "2170  116.599998      116.628291\n",
              "2171  111.199997      116.653875\n",
              "2172  115.320000      116.741500"
            ]
          },
          "metadata": {
            "tags": []
          },
          "execution_count": 16
        }
      ]
    },
    {
      "cell_type": "code",
      "metadata": {
        "id": "22-B0YGqIRAU"
      },
      "source": [
        ""
      ],
      "execution_count": null,
      "outputs": []
    },
    {
      "cell_type": "code",
      "metadata": {
        "id": "NRT3hjjnaMqN"
      },
      "source": [
        "##On trace les 4 graphiques cote à cote."
      ],
      "execution_count": null,
      "outputs": []
    },
    {
      "cell_type": "code",
      "metadata": {
        "id": "1D_xp1tuaMqV",
        "colab": {
          "base_uri": "https://localhost:8080/",
          "height": 353
        },
        "outputId": "264623f8-a028-4001-878c-f629e7347348"
      },
      "source": [
        "#### On affiche les 4 graphiques en même temps\n",
        "\n",
        "#### Sous graphique d'une ligne et 2 colonnes\n",
        "fig, axes = plt.subplots(nrows = 1, ncols = 4, figsize = (10,5))\n",
        "\n",
        "axes[0].plot(\"Num\", \"Close\", data = apple)\n",
        "axes[0].set_title(\"Original Plot\")\n",
        "axes[1].plot(\"Num\", \"Close\", data = un_dixieme)\n",
        "axes[1].set_title(\"Echantillon 10%\")\n",
        "axes[2].plot(\"Num\", \"Close\", data = un_vingtieme)\n",
        "axes[2].set_title(\"Echantillon 5%\")\n",
        "axes[3].plot(\"Num\", \"Moyenne_Mobile\", data = apple)\n",
        "axes[3].set_title(\"Moyenne Mobile à 40 cotations\")"
      ],
      "execution_count": null,
      "outputs": [
        {
          "output_type": "execute_result",
          "data": {
            "text/plain": [
              "Text(0.5, 1.0, 'Moyenne Mobile à 40 cotations')"
            ]
          },
          "metadata": {
            "tags": []
          },
          "execution_count": 17
        },
        {
          "output_type": "display_data",
          "data": {
            "image/png": "[encoded data removed]",
            "text/plain": [
              "<Figure size 720x360 with 4 Axes>"
            ]
          },
          "metadata": {
            "tags": [],
            "needs_background": "light"
          }
        }
      ]
    },
    {
      "cell_type": "markdown",
      "metadata": {
        "id": "C6ty-B1aaMqc"
      },
      "source": [
        "La moyenne mobile semble bien fitter les graphiques précedents. Qu'en est t-il si nous les superposons?"
      ]
    },
    {
      "cell_type": "code",
      "metadata": {
        "id": "7LQkV_Q3aMqe"
      },
      "source": [
        "##### On affiche les données originale et les données lissée sur le même graphique\n",
        "\n",
        "\n",
        "def sup_graph(x, y1, y2):\n",
        "    \"\"\"\n",
        "        Entrée: Nombre de cotation(x), prix moyenne mobile (y1), prix high (y2)\n",
        "        \n",
        "        Sortie: Graphique\n",
        "    \n",
        "    \"\"\"\n",
        "    fig = plt.figure()\n",
        "    ax = fig.add_subplot(111);\n",
        "    #### Graphique 1: Moyenne mobile\n",
        "    ax.plot(apple[x], apple[y1], color = (0,0,0), linewidth = 4, alpha =.9, label = \"Lissé MM\")\n",
        "    \n",
        "    #### Graphique 2: Plus haut de cotation\n",
        "    ax.plot(apple[x], apple[y2], color = (1,0,0), label = \"Original\")\n",
        "\n",
        "    ax.set_title('Les données originales et lissées')\n",
        "\n",
        "    ax.set_xlabel('Num')\n",
        "    ax.set_ylabel(\"Prix\")\n",
        "    ax.legend(loc = \"lower right\")"
      ],
      "execution_count": null,
      "outputs": []
    },
    {
      "cell_type": "code",
      "metadata": {
        "id": "FO5N743KaMqk",
        "colab": {
          "base_uri": "https://localhost:8080/",
          "height": 295
        },
        "outputId": "0ad17489-988e-453d-bdcc-3a77a5892060"
      },
      "source": [
        "sup_graph(\"Num\", \"Moyenne_Mobile\", \"High\")"
      ],
      "execution_count": null,
      "outputs": [
        {
          "output_type": "display_data",
          "data": {
            "image/png": "[encoded data removed]",
            "text/plain": [
              "<Figure size 432x288 with 1 Axes>"
            ]
          },
          "metadata": {
            "tags": [],
            "needs_background": "light"
          }
        }
      ]
    },
    {
      "cell_type": "markdown",
      "metadata": {
        "id": "4Z6GAP9haMqu"
      },
      "source": [
        "Le même code mais avec les dates en abscisses:"
      ]
    },
    {
      "cell_type": "code",
      "metadata": {
        "id": "Mp0LGhGSaMqv",
        "colab": {
          "base_uri": "https://localhost:8080/",
          "height": 295
        },
        "outputId": "4c3782cf-3991-407a-cc27-7a05fc3ca908"
      },
      "source": [
        "sup_graph(\"Date\", \"Moyenne_Mobile\", \"High\")"
      ],
      "execution_count": null,
      "outputs": [
        {
          "output_type": "display_data",
          "data": {
            "image/png": "[encoded data removed]",
            "text/plain": [
              "<Figure size 432x288 with 1 Axes>"
            ]
          },
          "metadata": {
            "tags": [],
            "needs_background": "light"
          }
        }
      ]
    },
    {
      "cell_type": "markdown",
      "metadata": {
        "collapsed": false,
        "id": "-DIRwIgaaMq4"
      },
      "source": [
        "On prendra ici les cotations entre 200 et 400."
      ]
    },
    {
      "cell_type": "code",
      "metadata": {
        "id": "spmxkkiTaMq6"
      },
      "source": [
        "#### Date a partir de decembre 2019"
      ],
      "execution_count": null,
      "outputs": []
    },
    {
      "cell_type": "code",
      "metadata": {
        "id": "D6GEijmtaMrD"
      },
      "source": [
        "Num_apple = apple[(apple[\"Num\"] >= 1943) ]"
      ],
      "execution_count": null,
      "outputs": []
    },
    {
      "cell_type": "code",
      "metadata": {
        "id": "EsLCe24ZaMrJ",
        "colab": {
          "base_uri": "https://localhost:8080/",
          "height": 343
        },
        "outputId": "77e4d107-1c5d-4006-ba2a-246449f076ff"
      },
      "source": [
        "Num_apple[:10]"
      ],
      "execution_count": null,
      "outputs": [
        {
          "output_type": "execute_result",
          "data": {
            "text/html": [
              "<div>\n",
              "<style scoped>\n",
              "    .dataframe tbody tr th:only-of-type {\n",
              "        vertical-align: middle;\n",
              "    }\n",
              "\n",
              "    .dataframe tbody tr th {\n",
              "        vertical-align: top;\n",
              "    }\n",
              "\n",
              "    .dataframe thead th {\n",
              "        text-align: right;\n",
              "    }\n",
              "</style>\n",
              "<table border=\"1\" class=\"dataframe\">\n",
              "  <thead>\n",
              "    <tr style=\"text-align: right;\">\n",
              "      <th></th>\n",
              "      <th>Date</th>\n",
              "      <th>High</th>\n",
              "      <th>Low</th>\n",
              "      <th>Open</th>\n",
              "      <th>Close</th>\n",
              "      <th>Volume</th>\n",
              "      <th>Adj Close</th>\n",
              "      <th>Num</th>\n",
              "      <th>Moyenne_Mobile</th>\n",
              "    </tr>\n",
              "  </thead>\n",
              "  <tbody>\n",
              "    <tr>\n",
              "      <th>1942</th>\n",
              "      <td>2019-12-02</td>\n",
              "      <td>67.062500</td>\n",
              "      <td>65.862503</td>\n",
              "      <td>66.817497</td>\n",
              "      <td>66.040001</td>\n",
              "      <td>94487200.0</td>\n",
              "      <td>65.587517</td>\n",
              "      <td>1943</td>\n",
              "      <td>60.185958</td>\n",
              "    </tr>\n",
              "    <tr>\n",
              "      <th>1943</th>\n",
              "      <td>2019-12-03</td>\n",
              "      <td>64.882500</td>\n",
              "      <td>64.072502</td>\n",
              "      <td>64.577499</td>\n",
              "      <td>64.862503</td>\n",
              "      <td>114430400.0</td>\n",
              "      <td>64.418091</td>\n",
              "      <td>1944</td>\n",
              "      <td>60.374625</td>\n",
              "    </tr>\n",
              "    <tr>\n",
              "      <th>1944</th>\n",
              "      <td>2019-12-04</td>\n",
              "      <td>65.827499</td>\n",
              "      <td>65.169998</td>\n",
              "      <td>65.267502</td>\n",
              "      <td>65.434998</td>\n",
              "      <td>67181600.0</td>\n",
              "      <td>64.986664</td>\n",
              "      <td>1945</td>\n",
              "      <td>60.562292</td>\n",
              "    </tr>\n",
              "    <tr>\n",
              "      <th>1945</th>\n",
              "      <td>2019-12-05</td>\n",
              "      <td>66.472504</td>\n",
              "      <td>65.682503</td>\n",
              "      <td>65.947502</td>\n",
              "      <td>66.394997</td>\n",
              "      <td>74424400.0</td>\n",
              "      <td>65.940086</td>\n",
              "      <td>1946</td>\n",
              "      <td>60.737250</td>\n",
              "    </tr>\n",
              "    <tr>\n",
              "      <th>1946</th>\n",
              "      <td>2019-12-06</td>\n",
              "      <td>67.750000</td>\n",
              "      <td>66.824997</td>\n",
              "      <td>66.870003</td>\n",
              "      <td>67.677498</td>\n",
              "      <td>106075600.0</td>\n",
              "      <td>67.213799</td>\n",
              "      <td>1947</td>\n",
              "      <td>60.935667</td>\n",
              "    </tr>\n",
              "    <tr>\n",
              "      <th>1947</th>\n",
              "      <td>2019-12-09</td>\n",
              "      <td>67.699997</td>\n",
              "      <td>66.227501</td>\n",
              "      <td>67.500000</td>\n",
              "      <td>66.730003</td>\n",
              "      <td>128042400.0</td>\n",
              "      <td>66.272789</td>\n",
              "      <td>1948</td>\n",
              "      <td>61.136375</td>\n",
              "    </tr>\n",
              "    <tr>\n",
              "      <th>1948</th>\n",
              "      <td>2019-12-10</td>\n",
              "      <td>67.517502</td>\n",
              "      <td>66.464996</td>\n",
              "      <td>67.150002</td>\n",
              "      <td>67.120003</td>\n",
              "      <td>90420400.0</td>\n",
              "      <td>66.660126</td>\n",
              "      <td>1949</td>\n",
              "      <td>61.338792</td>\n",
              "    </tr>\n",
              "    <tr>\n",
              "      <th>1949</th>\n",
              "      <td>2019-12-11</td>\n",
              "      <td>67.775002</td>\n",
              "      <td>67.125000</td>\n",
              "      <td>67.202499</td>\n",
              "      <td>67.692497</td>\n",
              "      <td>78756800.0</td>\n",
              "      <td>67.228699</td>\n",
              "      <td>1950</td>\n",
              "      <td>61.547417</td>\n",
              "    </tr>\n",
              "    <tr>\n",
              "      <th>1950</th>\n",
              "      <td>2019-12-12</td>\n",
              "      <td>68.139999</td>\n",
              "      <td>66.830002</td>\n",
              "      <td>66.945000</td>\n",
              "      <td>67.864998</td>\n",
              "      <td>137310400.0</td>\n",
              "      <td>67.400017</td>\n",
              "      <td>1951</td>\n",
              "      <td>61.750292</td>\n",
              "    </tr>\n",
              "    <tr>\n",
              "      <th>1951</th>\n",
              "      <td>2019-12-13</td>\n",
              "      <td>68.824997</td>\n",
              "      <td>67.732498</td>\n",
              "      <td>67.864998</td>\n",
              "      <td>68.787498</td>\n",
              "      <td>133587600.0</td>\n",
              "      <td>68.316193</td>\n",
              "      <td>1952</td>\n",
              "      <td>61.976083</td>\n",
              "    </tr>\n",
              "  </tbody>\n",
              "</table>\n",
              "</div>"
            ],
            "text/plain": [
              "           Date       High        Low  ...  Adj Close   Num  Moyenne_Mobile\n",
              "1942 2019-12-02  67.062500  65.862503  ...  65.587517  1943       60.185958\n",
              "1943 2019-12-03  64.882500  64.072502  ...  64.418091  1944       60.374625\n",
              "1944 2019-12-04  65.827499  65.169998  ...  64.986664  1945       60.562292\n",
              "1945 2019-12-05  66.472504  65.682503  ...  65.940086  1946       60.737250\n",
              "1946 2019-12-06  67.750000  66.824997  ...  67.213799  1947       60.935667\n",
              "1947 2019-12-09  67.699997  66.227501  ...  66.272789  1948       61.136375\n",
              "1948 2019-12-10  67.517502  66.464996  ...  66.660126  1949       61.338792\n",
              "1949 2019-12-11  67.775002  67.125000  ...  67.228699  1950       61.547417\n",
              "1950 2019-12-12  68.139999  66.830002  ...  67.400017  1951       61.750292\n",
              "1951 2019-12-13  68.824997  67.732498  ...  68.316193  1952       61.976083\n",
              "\n",
              "[10 rows x 9 columns]"
            ]
          },
          "metadata": {
            "tags": []
          },
          "execution_count": 23
        }
      ]
    },
    {
      "cell_type": "markdown",
      "metadata": {
        "id": "JnQZS96CaMrP"
      },
      "source": [
        "Dans cette partie, on cherchera à prédire notre moyenne mobile à l'aide d'une régression linéaire"
      ]
    },
    {
      "cell_type": "code",
      "metadata": {
        "id": "2FrCTiomaMrQ"
      },
      "source": [
        ""
      ],
      "execution_count": null,
      "outputs": []
    },
    {
      "cell_type": "code",
      "metadata": {
        "id": "7LvSDJtAaMrW",
        "colab": {
          "base_uri": "https://localhost:8080/"
        },
        "outputId": "4973f877-6c98-4b8a-a782-a5cf644c2383"
      },
      "source": [
        "#### Regression Linéaire\n",
        "\n",
        "from sklearn.linear_model import LinearRegression\n",
        "\n",
        "#### fit(X,y)\n",
        "\n",
        "#### On cherche a predire une moyenne mobile\n",
        "\n",
        "model = LinearRegression().fit(Num_apple[[\"Close\"]], Num_apple[[\"Moyenne_Mobile\"]])\n",
        "\n",
        "\n",
        "\n",
        "m = model.coef_[0]\n",
        "b = model.intercept_\n",
        "\n",
        "\n",
        "#### Equation de la ligne\n",
        "\n",
        "print(\"y=\", round(m[0], 4), \"x +\", round(b[0],4)) ##### Equation de la droite"
      ],
      "execution_count": null,
      "outputs": [
        {
          "output_type": "stream",
          "text": [
            "y= 0.7234 x + 17.4788\n"
          ],
          "name": "stdout"
        }
      ]
    },
    {
      "cell_type": "markdown",
      "metadata": {
        "id": "EzT7mUhGaMrg"
      },
      "source": [
        "<math>\n",
        "Y = X \\beta + \\epsilon\n",
        "</math>"
      ]
    },
    {
      "cell_type": "code",
      "metadata": {
        "id": "U5AtTyoOaMrh",
        "colab": {
          "base_uri": "https://localhost:8080/"
        },
        "outputId": "b752e2d7-abca-4458-806e-f239d077ec46"
      },
      "source": [
        "#### Prédiction de la moyenne mobile du cours d'ouverture\n",
        "\n",
        "prediction = model.predict(Num_apple[[\"Moyenne_Mobile\"]])\n",
        "prediction[:10]"
      ],
      "execution_count": null,
      "outputs": [
        {
          "output_type": "execute_result",
          "data": {
            "text/plain": [
              "array([[61.0150739 ],\n",
              "       [61.15154831],\n",
              "       [61.2872993 ],\n",
              "       [61.41385755],\n",
              "       [61.55738469],\n",
              "       [61.70256959],\n",
              "       [61.84899024],\n",
              "       [61.9999017 ],\n",
              "       [62.1466538 ],\n",
              "       [62.30998296]])"
            ]
          },
          "metadata": {
            "tags": []
          },
          "execution_count": 26
        }
      ]
    },
    {
      "cell_type": "code",
      "metadata": {
        "id": "Zmm5YjGzaMro",
        "colab": {
          "base_uri": "https://localhost:8080/",
          "height": 195
        },
        "outputId": "a044b3ff-3a60-4162-9e84-21a1b9dafac7"
      },
      "source": [
        "##### On crée un nouveau data frame avec les valeurs prédites\n",
        "prediction = pd.DataFrame(data = prediction, index = Num_apple.index.values, columns = [\"Pred\"])\n",
        "\n",
        "prediction.head(5)  #### Affichage des 5 valeurs"
      ],
      "execution_count": null,
      "outputs": [
        {
          "output_type": "execute_result",
          "data": {
            "text/html": [
              "<div>\n",
              "<style scoped>\n",
              "    .dataframe tbody tr th:only-of-type {\n",
              "        vertical-align: middle;\n",
              "    }\n",
              "\n",
              "    .dataframe tbody tr th {\n",
              "        vertical-align: top;\n",
              "    }\n",
              "\n",
              "    .dataframe thead th {\n",
              "        text-align: right;\n",
              "    }\n",
              "</style>\n",
              "<table border=\"1\" class=\"dataframe\">\n",
              "  <thead>\n",
              "    <tr style=\"text-align: right;\">\n",
              "      <th></th>\n",
              "      <th>Pred</th>\n",
              "    </tr>\n",
              "  </thead>\n",
              "  <tbody>\n",
              "    <tr>\n",
              "      <th>1942</th>\n",
              "      <td>61.015074</td>\n",
              "    </tr>\n",
              "    <tr>\n",
              "      <th>1943</th>\n",
              "      <td>61.151548</td>\n",
              "    </tr>\n",
              "    <tr>\n",
              "      <th>1944</th>\n",
              "      <td>61.287299</td>\n",
              "    </tr>\n",
              "    <tr>\n",
              "      <th>1945</th>\n",
              "      <td>61.413858</td>\n",
              "    </tr>\n",
              "    <tr>\n",
              "      <th>1946</th>\n",
              "      <td>61.557385</td>\n",
              "    </tr>\n",
              "  </tbody>\n",
              "</table>\n",
              "</div>"
            ],
            "text/plain": [
              "           Pred\n",
              "1942  61.015074\n",
              "1943  61.151548\n",
              "1944  61.287299\n",
              "1945  61.413858\n",
              "1946  61.557385"
            ]
          },
          "metadata": {
            "tags": []
          },
          "execution_count": 27
        }
      ]
    },
    {
      "cell_type": "code",
      "metadata": {
        "id": "XFSz8ZiWaMrt",
        "colab": {
          "base_uri": "https://localhost:8080/",
          "height": 195
        },
        "outputId": "2bc7148c-3bdc-4a52-c5aa-dcfd43cf051d"
      },
      "source": [
        "#### Jointure de la prediction avec l'ancienne table\n",
        "jointure = Num_apple.join(prediction, how = \"inner\") \n",
        "jointure.head(5)"
      ],
      "execution_count": null,
      "outputs": [
        {
          "output_type": "execute_result",
          "data": {
            "text/html": [
              "<div>\n",
              "<style scoped>\n",
              "    .dataframe tbody tr th:only-of-type {\n",
              "        vertical-align: middle;\n",
              "    }\n",
              "\n",
              "    .dataframe tbody tr th {\n",
              "        vertical-align: top;\n",
              "    }\n",
              "\n",
              "    .dataframe thead th {\n",
              "        text-align: right;\n",
              "    }\n",
              "</style>\n",
              "<table border=\"1\" class=\"dataframe\">\n",
              "  <thead>\n",
              "    <tr style=\"text-align: right;\">\n",
              "      <th></th>\n",
              "      <th>Date</th>\n",
              "      <th>High</th>\n",
              "      <th>Low</th>\n",
              "      <th>Open</th>\n",
              "      <th>Close</th>\n",
              "      <th>Volume</th>\n",
              "      <th>Adj Close</th>\n",
              "      <th>Num</th>\n",
              "      <th>Moyenne_Mobile</th>\n",
              "      <th>Pred</th>\n",
              "    </tr>\n",
              "  </thead>\n",
              "  <tbody>\n",
              "    <tr>\n",
              "      <th>1942</th>\n",
              "      <td>2019-12-02</td>\n",
              "      <td>67.062500</td>\n",
              "      <td>65.862503</td>\n",
              "      <td>66.817497</td>\n",
              "      <td>66.040001</td>\n",
              "      <td>94487200.0</td>\n",
              "      <td>65.587517</td>\n",
              "      <td>1943</td>\n",
              "      <td>60.185958</td>\n",
              "      <td>61.015074</td>\n",
              "    </tr>\n",
              "    <tr>\n",
              "      <th>1943</th>\n",
              "      <td>2019-12-03</td>\n",
              "      <td>64.882500</td>\n",
              "      <td>64.072502</td>\n",
              "      <td>64.577499</td>\n",
              "      <td>64.862503</td>\n",
              "      <td>114430400.0</td>\n",
              "      <td>64.418091</td>\n",
              "      <td>1944</td>\n",
              "      <td>60.374625</td>\n",
              "      <td>61.151548</td>\n",
              "    </tr>\n",
              "    <tr>\n",
              "      <th>1944</th>\n",
              "      <td>2019-12-04</td>\n",
              "      <td>65.827499</td>\n",
              "      <td>65.169998</td>\n",
              "      <td>65.267502</td>\n",
              "      <td>65.434998</td>\n",
              "      <td>67181600.0</td>\n",
              "      <td>64.986664</td>\n",
              "      <td>1945</td>\n",
              "      <td>60.562292</td>\n",
              "      <td>61.287299</td>\n",
              "    </tr>\n",
              "    <tr>\n",
              "      <th>1945</th>\n",
              "      <td>2019-12-05</td>\n",
              "      <td>66.472504</td>\n",
              "      <td>65.682503</td>\n",
              "      <td>65.947502</td>\n",
              "      <td>66.394997</td>\n",
              "      <td>74424400.0</td>\n",
              "      <td>65.940086</td>\n",
              "      <td>1946</td>\n",
              "      <td>60.737250</td>\n",
              "      <td>61.413858</td>\n",
              "    </tr>\n",
              "    <tr>\n",
              "      <th>1946</th>\n",
              "      <td>2019-12-06</td>\n",
              "      <td>67.750000</td>\n",
              "      <td>66.824997</td>\n",
              "      <td>66.870003</td>\n",
              "      <td>67.677498</td>\n",
              "      <td>106075600.0</td>\n",
              "      <td>67.213799</td>\n",
              "      <td>1947</td>\n",
              "      <td>60.935667</td>\n",
              "      <td>61.557385</td>\n",
              "    </tr>\n",
              "  </tbody>\n",
              "</table>\n",
              "</div>"
            ],
            "text/plain": [
              "           Date       High        Low  ...   Num  Moyenne_Mobile       Pred\n",
              "1942 2019-12-02  67.062500  65.862503  ...  1943       60.185958  61.015074\n",
              "1943 2019-12-03  64.882500  64.072502  ...  1944       60.374625  61.151548\n",
              "1944 2019-12-04  65.827499  65.169998  ...  1945       60.562292  61.287299\n",
              "1945 2019-12-05  66.472504  65.682503  ...  1946       60.737250  61.413858\n",
              "1946 2019-12-06  67.750000  66.824997  ...  1947       60.935667  61.557385\n",
              "\n",
              "[5 rows x 10 columns]"
            ]
          },
          "metadata": {
            "tags": []
          },
          "execution_count": 28
        }
      ]
    },
    {
      "cell_type": "code",
      "metadata": {
        "id": "8vgnfmhUaMrz",
        "colab": {
          "base_uri": "https://localhost:8080/",
          "height": 312
        },
        "outputId": "cc3950ff-f691-425d-a851-f388054a4cc4"
      },
      "source": [
        "#### Affichage de la moyenne mobile et de la prédiction\n",
        "\n",
        "fig = plt.figure()\n",
        "ax =fig.add_subplot(111)\n",
        "#### La variable d'ouverture\n",
        "ax.plot(jointure[\"Num\"], jointure[\"Moyenne_Mobile\"], color = (0,0,0), linewidth = 4, alpha = .9,label = \"Moyenne mobile\")\n",
        "#### La prédiction\n",
        "ax.plot(jointure[\"Num\"], jointure[\"Pred\"], color = (1,0,0), label = \"Prediction\")\n",
        "ax.set_title(\"Moyenne mobile vs Régression linéaire\")\n",
        "ax.set_xlabel(\"Num\")\n",
        "ax.set_ylabel(\"Prix\")\n",
        "ax.legend(loc=\"lower right\")"
      ],
      "execution_count": null,
      "outputs": [
        {
          "output_type": "execute_result",
          "data": {
            "text/plain": [
              "<matplotlib.legend.Legend at 0x7f8a1920c5f8>"
            ]
          },
          "metadata": {
            "tags": []
          },
          "execution_count": 29
        },
        {
          "output_type": "display_data",
          "data": {
            "image/png": "[encoded data removed]",
            "text/plain": [
              "<Figure size 432x288 with 1 Axes>"
            ]
          },
          "metadata": {
            "tags": [],
            "needs_background": "light"
          }
        }
      ]
    },
    {
      "cell_type": "code",
      "metadata": {
        "id": "2WjCGTHcaMr5",
        "colab": {
          "base_uri": "https://localhost:8080/"
        },
        "outputId": "b617bf6a-df94-4b3b-f411-11e7b275d4be"
      },
      "source": [
        "import sklearn\n",
        "\n",
        "r_carre = sklearn.metrics.r2_score(jointure[\"Moyenne_Mobile\"],jointure[\"Pred\"], multioutput = \"uniform_average\")\n",
        "r_carre"
      ],
      "execution_count": null,
      "outputs": [
        {
          "output_type": "execute_result",
          "data": {
            "text/plain": [
              "0.8279927292833754"
            ]
          },
          "metadata": {
            "tags": []
          },
          "execution_count": 30
        }
      ]
    },
    {
      "cell_type": "markdown",
      "metadata": {
        "id": "AMl8-YCZaMsL"
      },
      "source": [
        "R_carre faible"
      ]
    }
  ]
}